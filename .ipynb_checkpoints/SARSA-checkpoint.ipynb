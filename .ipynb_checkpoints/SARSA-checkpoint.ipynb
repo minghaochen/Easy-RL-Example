{
 "cells": [
  {
   "cell_type": "code",
   "execution_count": 1,
   "id": "19714b4c",
   "metadata": {},
   "outputs": [],
   "source": [
    "import numpy as np\n",
    "import gym\n",
    "from tqdm import tqdm"
   ]
  },
  {
   "cell_type": "code",
   "execution_count": 2,
   "id": "29e5c526",
   "metadata": {},
   "outputs": [],
   "source": [
    "env = gym.make('FrozenLake-v1')"
   ]
  },
  {
   "cell_type": "code",
   "execution_count": 3,
   "id": "7beb6c76",
   "metadata": {},
   "outputs": [],
   "source": [
    "# Parameters\n",
    "epsilon = 0.5\n",
    "total_episodes = 5000\n",
    "max_steps = 100\n",
    "alpha = 0.85\n",
    "gamma = 0.99\n",
    "  \n",
    "#Initializing the Q-vaue\n",
    "Q = np.zeros((env.observation_space.n, env.action_space.n))"
   ]
  },
  {
   "cell_type": "code",
   "execution_count": 4,
   "id": "4842f02b",
   "metadata": {},
   "outputs": [
    {
     "data": {
      "text/plain": [
       "(16, 4)"
      ]
     },
     "execution_count": 4,
     "metadata": {},
     "output_type": "execute_result"
    }
   ],
   "source": [
    "Q.shape"
   ]
  },
  {
   "cell_type": "code",
   "execution_count": 5,
   "id": "d63d74bd",
   "metadata": {},
   "outputs": [],
   "source": [
    "# Function to choose the next action with episolon greedy\n",
    "def choose_action(Q,state):\n",
    "    action=0\n",
    "    if np.random.uniform(0, 1) < epsilon:\n",
    "        action = env.action_space.sample()\n",
    "    else:\n",
    "        action = np.argmax(Q[state, :])\n",
    "    return action\n",
    "def choose_action2(Q,state,epoch):\n",
    "    action = np.argmax(Q[state, :] + np.random.randn(1, env.action_space.n) * (1. / (epoch + 1)))\n",
    "    return action\n",
    "    "
   ]
  },
  {
   "cell_type": "code",
   "execution_count": 6,
   "id": "eb23a67f",
   "metadata": {},
   "outputs": [],
   "source": [
    "def test_policy(env,Q):\n",
    "    wins = 0\n",
    "    r = 100\n",
    "    max_steps = 100\n",
    "    for i in range(r):\n",
    "        rAll = 0\n",
    "        state1 = env.reset()\n",
    "        action1 = choose_action2(Q,state1,50000)\n",
    "        while t < max_steps:\n",
    "            # Getting the next state\n",
    "            state2, reward, done, info = env.step(action1)\n",
    "            #Choosing the next action\n",
    "            action2 = choose_action2(Q,state2,50000)\n",
    "            #Updating the respective vaLues\n",
    "            state1 = state2\n",
    "            action1 = action2\n",
    "            rAll += reward\n",
    "            #If at the end of learning process\n",
    "            if done:\n",
    "                break\n",
    "        rList.append(rAll)\n",
    "\n",
    "    return sum(rList) / r"
   ]
  },
  {
   "cell_type": "code",
   "execution_count": 7,
   "id": "faa4270d",
   "metadata": {},
   "outputs": [],
   "source": [
    "#Initializing the reward\n",
    "reward=0\n",
    "rList = []"
   ]
  },
  {
   "cell_type": "code",
   "execution_count": 8,
   "id": "c796c05d",
   "metadata": {},
   "outputs": [
    {
     "name": "stderr",
     "output_type": "stream",
     "text": [
      "100%|████████████████████████████████████████████████████████████████████████████| 5000/5000 [00:03<00:00, 1270.48it/s]\n"
     ]
    }
   ],
   "source": [
    "# Starting the SARSA learning\n",
    "for episode in tqdm(range(total_episodes)):\n",
    "    t = 0\n",
    "    rAll = 0\n",
    "    state1 = env.reset()\n",
    "    action1 = choose_action2(Q,state1,episode)\n",
    "  \n",
    "    while t < max_steps:\n",
    "        # Visualizing the training\n",
    "#         env.render()\n",
    "          \n",
    "        # Getting the next state\n",
    "        state2, reward, done, info = env.step(action1)\n",
    "  \n",
    "        #Choosing the next action\n",
    "        action2 = choose_action2(Q,state2,episode)\n",
    "          \n",
    "        #Learning the Q-value\n",
    "        Q[state1, action1] = Q[state1, action1] + alpha * (reward + gamma * Q[state2, action2] - Q[state1, action1])\n",
    "        \n",
    "        #Updating the respective vaLues\n",
    "        state1 = state2\n",
    "        action1 = action2\n",
    "          \n",
    "        #If at the end of learning process\n",
    "        if done:\n",
    "            break"
   ]
  },
  {
   "cell_type": "code",
   "execution_count": 9,
   "id": "ec1b6427",
   "metadata": {},
   "outputs": [
    {
     "data": {
      "text/plain": [
       "0.68"
      ]
     },
     "execution_count": 9,
     "metadata": {},
     "output_type": "execute_result"
    }
   ],
   "source": [
    "test_policy(env,Q)"
   ]
  },
  {
   "cell_type": "code",
   "execution_count": null,
   "id": "1cdf840e",
   "metadata": {},
   "outputs": [],
   "source": []
  }
 ],
 "metadata": {
  "kernelspec": {
   "display_name": "Python 3 (ipykernel)",
   "language": "python",
   "name": "python3"
  },
  "language_info": {
   "codemirror_mode": {
    "name": "ipython",
    "version": 3
   },
   "file_extension": ".py",
   "mimetype": "text/x-python",
   "name": "python",
   "nbconvert_exporter": "python",
   "pygments_lexer": "ipython3",
   "version": "3.7.12"
  }
 },
 "nbformat": 4,
 "nbformat_minor": 5
}
